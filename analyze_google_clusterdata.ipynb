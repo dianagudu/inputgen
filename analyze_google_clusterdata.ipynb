{
 "cells": [
  {
   "cell_type": "code",
   "execution_count": 1,
   "metadata": {
    "collapsed": true
   },
   "outputs": [],
   "source": [
    "import numpy as np\n",
    "import pandas as pd\n",
    "import pylab as plt"
   ]
  },
  {
   "cell_type": "code",
   "execution_count": 2,
   "metadata": {
    "collapsed": true
   },
   "outputs": [],
   "source": [
    "# google cluster data files\n",
    "job_events_file='cloud_traces/google/job_events/part-00000-of-00500.csv.gz'\n",
    "task_events_file='cloud_traces/google/task_events/part-00000-of-00500.csv.gz'\n",
    "machine_events_file='cloud_traces/google/machine_events/part-00000-of-00001.csv.gz'\n",
    "machine_attributes_file='cloud_traces/google/machine_attributes/part-00000-of-00001.csv.gz'\n",
    "task_constraints_file='cloud_traces/google/task_constraints/part-00000-of-00500.csv.gz'\n",
    "task_usage_file='cloud_traces/google/task_usage/part-00000-of-00500.csv.gz'"
   ]
  },
  {
   "cell_type": "code",
   "execution_count": 3,
   "metadata": {
    "collapsed": false,
    "scrolled": false
   },
   "outputs": [
    {
     "data": {
      "text/html": [
       "<div>\n",
       "<table border=\"1\" class=\"dataframe\">\n",
       "  <thead>\n",
       "    <tr style=\"text-align: right;\">\n",
       "      <th></th>\n",
       "      <th>time</th>\n",
       "      <th>missing_info</th>\n",
       "      <th>job_id</th>\n",
       "      <th>event_type</th>\n",
       "      <th>user</th>\n",
       "      <th>sched_class</th>\n",
       "      <th>job_name</th>\n",
       "      <th>logical_job_name</th>\n",
       "    </tr>\n",
       "  </thead>\n",
       "  <tbody>\n",
       "    <tr>\n",
       "      <th>0</th>\n",
       "      <td>0</td>\n",
       "      <td>NaN</td>\n",
       "      <td>3418309</td>\n",
       "      <td>0</td>\n",
       "      <td>70s3v5qRyCO/1PCdI6fVXnrW8FU/w+5CKRSa72xgcIo=</td>\n",
       "      <td>3</td>\n",
       "      <td>IHgtoxEBuUTHNbUeVs4hzptMY4n8rZKLbZg+Jh5fNG4=</td>\n",
       "      <td>wAmgn2H74cdoMuSFwJF3NaUEaudVBTZ0/HaNZBwIpEQ=</td>\n",
       "    </tr>\n",
       "    <tr>\n",
       "      <th>1</th>\n",
       "      <td>0</td>\n",
       "      <td>NaN</td>\n",
       "      <td>3418314</td>\n",
       "      <td>0</td>\n",
       "      <td>70s3v5qRyCO/1PCdI6fVXnrW8FU/w+5CKRSa72xgcIo=</td>\n",
       "      <td>3</td>\n",
       "      <td>L52XDyhi9x9ChmVBZ1qavOFmnzPeVsvQ2QyGmBZcV4s=</td>\n",
       "      <td>ShNjeaoUeqGV2i9WMKEX9HTeuc9K2Fdfovibt7Mp6qI=</td>\n",
       "    </tr>\n",
       "    <tr>\n",
       "      <th>2</th>\n",
       "      <td>0</td>\n",
       "      <td>NaN</td>\n",
       "      <td>3418319</td>\n",
       "      <td>0</td>\n",
       "      <td>70s3v5qRyCO/1PCdI6fVXnrW8FU/w+5CKRSa72xgcIo=</td>\n",
       "      <td>3</td>\n",
       "      <td>vq0IN3BWEbkDjYgYvkrVyH6OWoUoDwFFf3j/syEZzLA=</td>\n",
       "      <td>1A2GM17AzHRcKJcJet/oIF7FOORyFcAOcUSpR9Fqou8=</td>\n",
       "    </tr>\n",
       "    <tr>\n",
       "      <th>3</th>\n",
       "      <td>0</td>\n",
       "      <td>NaN</td>\n",
       "      <td>3418324</td>\n",
       "      <td>0</td>\n",
       "      <td>70s3v5qRyCO/1PCdI6fVXnrW8FU/w+5CKRSa72xgcIo=</td>\n",
       "      <td>3</td>\n",
       "      <td>X+Vce15Yu3BCKb7Ttc6hvINAzdfG3NtYEDNNsPdMGKo=</td>\n",
       "      <td>seczVo7MBfi/kH3+eH/40Hxs0l2YKFtXFnamcvMjSQI=</td>\n",
       "    </tr>\n",
       "    <tr>\n",
       "      <th>4</th>\n",
       "      <td>0</td>\n",
       "      <td>NaN</td>\n",
       "      <td>3418329</td>\n",
       "      <td>0</td>\n",
       "      <td>70s3v5qRyCO/1PCdI6fVXnrW8FU/w+5CKRSa72xgcIo=</td>\n",
       "      <td>3</td>\n",
       "      <td>EeK3DUWYi1P0vgBTp7wZdUos8UKj/+/FqudTLohMQ9M=</td>\n",
       "      <td>OEeQsaVr4kdGHFwQ2liQlDZ18529HEMmu6B6/3K1cBA=</td>\n",
       "    </tr>\n",
       "  </tbody>\n",
       "</table>\n",
       "</div>"
      ],
      "text/plain": [
       "   time missing_info   job_id  event_type  \\\n",
       "0     0          NaN  3418309           0   \n",
       "1     0          NaN  3418314           0   \n",
       "2     0          NaN  3418319           0   \n",
       "3     0          NaN  3418324           0   \n",
       "4     0          NaN  3418329           0   \n",
       "\n",
       "                                           user  sched_class  \\\n",
       "0  70s3v5qRyCO/1PCdI6fVXnrW8FU/w+5CKRSa72xgcIo=            3   \n",
       "1  70s3v5qRyCO/1PCdI6fVXnrW8FU/w+5CKRSa72xgcIo=            3   \n",
       "2  70s3v5qRyCO/1PCdI6fVXnrW8FU/w+5CKRSa72xgcIo=            3   \n",
       "3  70s3v5qRyCO/1PCdI6fVXnrW8FU/w+5CKRSa72xgcIo=            3   \n",
       "4  70s3v5qRyCO/1PCdI6fVXnrW8FU/w+5CKRSa72xgcIo=            3   \n",
       "\n",
       "                                       job_name  \\\n",
       "0  IHgtoxEBuUTHNbUeVs4hzptMY4n8rZKLbZg+Jh5fNG4=   \n",
       "1  L52XDyhi9x9ChmVBZ1qavOFmnzPeVsvQ2QyGmBZcV4s=   \n",
       "2  vq0IN3BWEbkDjYgYvkrVyH6OWoUoDwFFf3j/syEZzLA=   \n",
       "3  X+Vce15Yu3BCKb7Ttc6hvINAzdfG3NtYEDNNsPdMGKo=   \n",
       "4  EeK3DUWYi1P0vgBTp7wZdUos8UKj/+/FqudTLohMQ9M=   \n",
       "\n",
       "                               logical_job_name  \n",
       "0  wAmgn2H74cdoMuSFwJF3NaUEaudVBTZ0/HaNZBwIpEQ=  \n",
       "1  ShNjeaoUeqGV2i9WMKEX9HTeuc9K2Fdfovibt7Mp6qI=  \n",
       "2  1A2GM17AzHRcKJcJet/oIF7FOORyFcAOcUSpR9Fqou8=  \n",
       "3  seczVo7MBfi/kH3+eH/40Hxs0l2YKFtXFnamcvMjSQI=  \n",
       "4  OEeQsaVr4kdGHFwQ2liQlDZ18529HEMmu6B6/3K1cBA=  "
      ]
     },
     "execution_count": 3,
     "metadata": {},
     "output_type": "execute_result"
    }
   ],
   "source": [
    "# load job events\n",
    "types_je = {'time': np.int_, 'missing_info': np.object_, 'job_id': np.int_, 'event_type': np.int_, \\\n",
    "            'user': np.object_, 'sched_class': np.int_, \\\n",
    "            'job_name': np.object_, 'logical_job_name': np.object_}\n",
    "job_events = pd.read_csv(job_events_file, header=None, names=types_je.keys(), dtype=types_je, na_values = None)\n",
    "job_events.head()"
   ]
  },
  {
   "cell_type": "code",
   "execution_count": 4,
   "metadata": {
    "collapsed": false
   },
   "outputs": [
    {
     "data": {
      "text/html": [
       "<div>\n",
       "<table border=\"1\" class=\"dataframe\">\n",
       "  <thead>\n",
       "    <tr style=\"text-align: right;\">\n",
       "      <th></th>\n",
       "      <th>time</th>\n",
       "      <th>missing_info</th>\n",
       "      <th>job_id</th>\n",
       "      <th>task_index</th>\n",
       "      <th>machine_id</th>\n",
       "      <th>event_type</th>\n",
       "      <th>user</th>\n",
       "      <th>sched_class</th>\n",
       "      <th>priority</th>\n",
       "      <th>cpu_request</th>\n",
       "      <th>memory_reqest</th>\n",
       "      <th>disk_space_request</th>\n",
       "      <th>diff_machines_restrictions</th>\n",
       "    </tr>\n",
       "  </thead>\n",
       "  <tbody>\n",
       "    <tr>\n",
       "      <th>0</th>\n",
       "      <td>0</td>\n",
       "      <td>2</td>\n",
       "      <td>3418309</td>\n",
       "      <td>0</td>\n",
       "      <td>4155527081</td>\n",
       "      <td>0</td>\n",
       "      <td>70s3v5qRyCO/1PCdI6fVXnrW8FU/w+5CKRSa72xgcIo=</td>\n",
       "      <td>3</td>\n",
       "      <td>9</td>\n",
       "      <td>NaN</td>\n",
       "      <td>NaN</td>\n",
       "      <td>NaN</td>\n",
       "      <td>NaN</td>\n",
       "    </tr>\n",
       "    <tr>\n",
       "      <th>1</th>\n",
       "      <td>0</td>\n",
       "      <td>2</td>\n",
       "      <td>3418309</td>\n",
       "      <td>1</td>\n",
       "      <td>329150663</td>\n",
       "      <td>0</td>\n",
       "      <td>70s3v5qRyCO/1PCdI6fVXnrW8FU/w+5CKRSa72xgcIo=</td>\n",
       "      <td>3</td>\n",
       "      <td>9</td>\n",
       "      <td>NaN</td>\n",
       "      <td>NaN</td>\n",
       "      <td>NaN</td>\n",
       "      <td>NaN</td>\n",
       "    </tr>\n",
       "    <tr>\n",
       "      <th>2</th>\n",
       "      <td>0</td>\n",
       "      <td>NaN</td>\n",
       "      <td>3418314</td>\n",
       "      <td>0</td>\n",
       "      <td>3938719206</td>\n",
       "      <td>0</td>\n",
       "      <td>70s3v5qRyCO/1PCdI6fVXnrW8FU/w+5CKRSa72xgcIo=</td>\n",
       "      <td>3</td>\n",
       "      <td>9</td>\n",
       "      <td>0.125</td>\n",
       "      <td>0.07446</td>\n",
       "      <td>0.000424</td>\n",
       "      <td>0</td>\n",
       "    </tr>\n",
       "    <tr>\n",
       "      <th>3</th>\n",
       "      <td>0</td>\n",
       "      <td>NaN</td>\n",
       "      <td>3418314</td>\n",
       "      <td>1</td>\n",
       "      <td>351618647</td>\n",
       "      <td>0</td>\n",
       "      <td>70s3v5qRyCO/1PCdI6fVXnrW8FU/w+5CKRSa72xgcIo=</td>\n",
       "      <td>3</td>\n",
       "      <td>9</td>\n",
       "      <td>0.125</td>\n",
       "      <td>0.07446</td>\n",
       "      <td>0.000424</td>\n",
       "      <td>0</td>\n",
       "    </tr>\n",
       "    <tr>\n",
       "      <th>4</th>\n",
       "      <td>0</td>\n",
       "      <td>2</td>\n",
       "      <td>3418319</td>\n",
       "      <td>0</td>\n",
       "      <td>431052910</td>\n",
       "      <td>0</td>\n",
       "      <td>70s3v5qRyCO/1PCdI6fVXnrW8FU/w+5CKRSa72xgcIo=</td>\n",
       "      <td>3</td>\n",
       "      <td>9</td>\n",
       "      <td>NaN</td>\n",
       "      <td>NaN</td>\n",
       "      <td>NaN</td>\n",
       "      <td>NaN</td>\n",
       "    </tr>\n",
       "  </tbody>\n",
       "</table>\n",
       "</div>"
      ],
      "text/plain": [
       "   time missing_info   job_id  task_index  machine_id  event_type  \\\n",
       "0     0            2  3418309           0  4155527081           0   \n",
       "1     0            2  3418309           1   329150663           0   \n",
       "2     0          NaN  3418314           0  3938719206           0   \n",
       "3     0          NaN  3418314           1   351618647           0   \n",
       "4     0            2  3418319           0   431052910           0   \n",
       "\n",
       "                                           user  sched_class  priority  \\\n",
       "0  70s3v5qRyCO/1PCdI6fVXnrW8FU/w+5CKRSa72xgcIo=            3         9   \n",
       "1  70s3v5qRyCO/1PCdI6fVXnrW8FU/w+5CKRSa72xgcIo=            3         9   \n",
       "2  70s3v5qRyCO/1PCdI6fVXnrW8FU/w+5CKRSa72xgcIo=            3         9   \n",
       "3  70s3v5qRyCO/1PCdI6fVXnrW8FU/w+5CKRSa72xgcIo=            3         9   \n",
       "4  70s3v5qRyCO/1PCdI6fVXnrW8FU/w+5CKRSa72xgcIo=            3         9   \n",
       "\n",
       "   cpu_request  memory_reqest  disk_space_request diff_machines_restrictions  \n",
       "0          NaN            NaN                 NaN                        NaN  \n",
       "1          NaN            NaN                 NaN                        NaN  \n",
       "2        0.125        0.07446            0.000424                          0  \n",
       "3        0.125        0.07446            0.000424                          0  \n",
       "4          NaN            NaN                 NaN                        NaN  "
      ]
     },
     "execution_count": 4,
     "metadata": {},
     "output_type": "execute_result"
    }
   ],
   "source": [
    "# load task events\n",
    "types_te = {'time': np.int_, 'missing_info': np.object_, 'job_id': np.int_, \\\n",
    "            'task_index': np.int_, 'machine_id': np.object_, \\\n",
    "            'event_type': np.int_, 'user': np.object_, \\\n",
    "            'sched_class': np.int_, 'priority': np.int_, \\\n",
    "            'cpu_request': np.float_, 'memory_reqest': np.float_, \\\n",
    "            'disk_space_request': np.float_, 'diff_machines_restrictions': np.object_}\n",
    "task_events = pd.read_csv(task_events_file, header=None, names=types_te.keys(), dtype=types_te, na_values = None)\n",
    "task_events.head()"
   ]
  },
  {
   "cell_type": "code",
   "execution_count": 5,
   "metadata": {
    "collapsed": false
   },
   "outputs": [
    {
     "data": {
      "text/html": [
       "<div>\n",
       "<table border=\"1\" class=\"dataframe\">\n",
       "  <thead>\n",
       "    <tr style=\"text-align: right;\">\n",
       "      <th></th>\n",
       "      <th>time</th>\n",
       "      <th>machine_id</th>\n",
       "      <th>event_type</th>\n",
       "      <th>platform_id</th>\n",
       "      <th>cpus</th>\n",
       "      <th>memory</th>\n",
       "    </tr>\n",
       "  </thead>\n",
       "  <tbody>\n",
       "    <tr>\n",
       "      <th>0</th>\n",
       "      <td>0</td>\n",
       "      <td>5</td>\n",
       "      <td>0</td>\n",
       "      <td>HofLGzk1Or/8Ildj2+Lqv0UGGvY82NLoni8+J/Yy0RU=</td>\n",
       "      <td>0.5</td>\n",
       "      <td>0.2493</td>\n",
       "    </tr>\n",
       "    <tr>\n",
       "      <th>1</th>\n",
       "      <td>0</td>\n",
       "      <td>6</td>\n",
       "      <td>0</td>\n",
       "      <td>HofLGzk1Or/8Ildj2+Lqv0UGGvY82NLoni8+J/Yy0RU=</td>\n",
       "      <td>0.5</td>\n",
       "      <td>0.2493</td>\n",
       "    </tr>\n",
       "    <tr>\n",
       "      <th>2</th>\n",
       "      <td>0</td>\n",
       "      <td>7</td>\n",
       "      <td>0</td>\n",
       "      <td>HofLGzk1Or/8Ildj2+Lqv0UGGvY82NLoni8+J/Yy0RU=</td>\n",
       "      <td>0.5</td>\n",
       "      <td>0.2493</td>\n",
       "    </tr>\n",
       "    <tr>\n",
       "      <th>3</th>\n",
       "      <td>0</td>\n",
       "      <td>10</td>\n",
       "      <td>0</td>\n",
       "      <td>HofLGzk1Or/8Ildj2+Lqv0UGGvY82NLoni8+J/Yy0RU=</td>\n",
       "      <td>0.5</td>\n",
       "      <td>0.2493</td>\n",
       "    </tr>\n",
       "    <tr>\n",
       "      <th>4</th>\n",
       "      <td>0</td>\n",
       "      <td>13</td>\n",
       "      <td>0</td>\n",
       "      <td>HofLGzk1Or/8Ildj2+Lqv0UGGvY82NLoni8+J/Yy0RU=</td>\n",
       "      <td>0.5</td>\n",
       "      <td>0.2493</td>\n",
       "    </tr>\n",
       "  </tbody>\n",
       "</table>\n",
       "</div>"
      ],
      "text/plain": [
       "   time  machine_id  event_type                                   platform_id  \\\n",
       "0     0           5           0  HofLGzk1Or/8Ildj2+Lqv0UGGvY82NLoni8+J/Yy0RU=   \n",
       "1     0           6           0  HofLGzk1Or/8Ildj2+Lqv0UGGvY82NLoni8+J/Yy0RU=   \n",
       "2     0           7           0  HofLGzk1Or/8Ildj2+Lqv0UGGvY82NLoni8+J/Yy0RU=   \n",
       "3     0          10           0  HofLGzk1Or/8Ildj2+Lqv0UGGvY82NLoni8+J/Yy0RU=   \n",
       "4     0          13           0  HofLGzk1Or/8Ildj2+Lqv0UGGvY82NLoni8+J/Yy0RU=   \n",
       "\n",
       "   cpus  memory  \n",
       "0   0.5  0.2493  \n",
       "1   0.5  0.2493  \n",
       "2   0.5  0.2493  \n",
       "3   0.5  0.2493  \n",
       "4   0.5  0.2493  "
      ]
     },
     "execution_count": 5,
     "metadata": {},
     "output_type": "execute_result"
    }
   ],
   "source": [
    "# load machine events\n",
    "types_me = {'time': np.int_, 'machine_id': np.int_, 'event_type': np.int_, \\\n",
    "            'platform_id': np.object_, 'cpus': np.float_, 'memory': np.float_}\n",
    "machine_events = pd.read_csv(machine_events_file, header=None, names=types_me.keys(), dtype=types_me)\n",
    "machine_events.head()"
   ]
  },
  {
   "cell_type": "code",
   "execution_count": 6,
   "metadata": {
    "collapsed": false
   },
   "outputs": [
    {
     "data": {
      "text/html": [
       "<div>\n",
       "<table border=\"1\" class=\"dataframe\">\n",
       "  <thead>\n",
       "    <tr style=\"text-align: right;\">\n",
       "      <th></th>\n",
       "      <th>time</th>\n",
       "      <th>machine_id</th>\n",
       "      <th>attribute_name</th>\n",
       "      <th>attribute_value</th>\n",
       "      <th>attribute_deleted</th>\n",
       "    </tr>\n",
       "  </thead>\n",
       "  <tbody>\n",
       "    <tr>\n",
       "      <th>0</th>\n",
       "      <td>0</td>\n",
       "      <td>5</td>\n",
       "      <td>+8aLrMrUBQLYLD4Ndxi/ZmwwKGhtFGskL8ZSdChYMdo=</td>\n",
       "      <td>1</td>\n",
       "      <td>False</td>\n",
       "    </tr>\n",
       "    <tr>\n",
       "      <th>1</th>\n",
       "      <td>0</td>\n",
       "      <td>5</td>\n",
       "      <td>4chZqkETND7f4XrzdWLe8c1eLHKuYgjnUMSV+83EYFA=</td>\n",
       "      <td>1</td>\n",
       "      <td>False</td>\n",
       "    </tr>\n",
       "    <tr>\n",
       "      <th>2</th>\n",
       "      <td>0</td>\n",
       "      <td>5</td>\n",
       "      <td>5dEuieuWMFy+CNMBBf/uXNX5nP4Kgzeu0O6UizRNK3w=</td>\n",
       "      <td>2</td>\n",
       "      <td>False</td>\n",
       "    </tr>\n",
       "    <tr>\n",
       "      <th>3</th>\n",
       "      <td>0</td>\n",
       "      <td>5</td>\n",
       "      <td>81Cd14q4ebyI/3TPkkIwGYlB/mvKhBUk3e/E8egb4s0=</td>\n",
       "      <td>2</td>\n",
       "      <td>False</td>\n",
       "    </tr>\n",
       "    <tr>\n",
       "      <th>4</th>\n",
       "      <td>0</td>\n",
       "      <td>5</td>\n",
       "      <td>9eCGRtl6XN5GQoOYGEjKtupBbtUoOaOPYRFw+pzH7IU=</td>\n",
       "      <td>2</td>\n",
       "      <td>False</td>\n",
       "    </tr>\n",
       "  </tbody>\n",
       "</table>\n",
       "</div>"
      ],
      "text/plain": [
       "   time  machine_id                                attribute_name  \\\n",
       "0     0           5  +8aLrMrUBQLYLD4Ndxi/ZmwwKGhtFGskL8ZSdChYMdo=   \n",
       "1     0           5  4chZqkETND7f4XrzdWLe8c1eLHKuYgjnUMSV+83EYFA=   \n",
       "2     0           5  5dEuieuWMFy+CNMBBf/uXNX5nP4Kgzeu0O6UizRNK3w=   \n",
       "3     0           5  81Cd14q4ebyI/3TPkkIwGYlB/mvKhBUk3e/E8egb4s0=   \n",
       "4     0           5  9eCGRtl6XN5GQoOYGEjKtupBbtUoOaOPYRFw+pzH7IU=   \n",
       "\n",
       "  attribute_value attribute_deleted  \n",
       "0               1             False  \n",
       "1               1             False  \n",
       "2               2             False  \n",
       "3               2             False  \n",
       "4               2             False  "
      ]
     },
     "execution_count": 6,
     "metadata": {},
     "output_type": "execute_result"
    }
   ],
   "source": [
    "# load machine attributes\n",
    "types_ma = {'time': np.int_, 'machine_id': np.int_, 'attribute_name': np.object_, \\\n",
    "            'attribute_value': np.object_, 'attribute_deleted': np.bool_}\n",
    "machine_attributes = pd.read_csv(machine_attributes_file, header=None, names=types_ma.keys(), dtype=types_ma)\n",
    "machine_attributes.head()"
   ]
  },
  {
   "cell_type": "code",
   "execution_count": 7,
   "metadata": {
    "collapsed": false
   },
   "outputs": [
    {
     "data": {
      "text/html": [
       "<div>\n",
       "<table border=\"1\" class=\"dataframe\">\n",
       "  <thead>\n",
       "    <tr style=\"text-align: right;\">\n",
       "      <th></th>\n",
       "      <th>time</th>\n",
       "      <th>job_id</th>\n",
       "      <th>task_index</th>\n",
       "      <th>comparison_operator</th>\n",
       "      <th>attribute_name</th>\n",
       "      <th>attribute_value</th>\n",
       "    </tr>\n",
       "  </thead>\n",
       "  <tbody>\n",
       "    <tr>\n",
       "      <th>0</th>\n",
       "      <td>0</td>\n",
       "      <td>3418314</td>\n",
       "      <td>0</td>\n",
       "      <td>1</td>\n",
       "      <td>mansM6bIlckDBqXz7zIl+IJeUAIfrXYa5wIgb3fzoO8=</td>\n",
       "      <td>0</td>\n",
       "    </tr>\n",
       "    <tr>\n",
       "      <th>1</th>\n",
       "      <td>0</td>\n",
       "      <td>3418314</td>\n",
       "      <td>0</td>\n",
       "      <td>0</td>\n",
       "      <td>o/0PSEOQ9jWyzNMXehU3dXqePQIE2QxyxyknZMT1k4c=</td>\n",
       "      <td>NaN</td>\n",
       "    </tr>\n",
       "    <tr>\n",
       "      <th>2</th>\n",
       "      <td>0</td>\n",
       "      <td>3418314</td>\n",
       "      <td>1</td>\n",
       "      <td>1</td>\n",
       "      <td>mansM6bIlckDBqXz7zIl+IJeUAIfrXYa5wIgb3fzoO8=</td>\n",
       "      <td>0</td>\n",
       "    </tr>\n",
       "    <tr>\n",
       "      <th>3</th>\n",
       "      <td>0</td>\n",
       "      <td>3418314</td>\n",
       "      <td>1</td>\n",
       "      <td>0</td>\n",
       "      <td>o/0PSEOQ9jWyzNMXehU3dXqePQIE2QxyxyknZMT1k4c=</td>\n",
       "      <td>NaN</td>\n",
       "    </tr>\n",
       "    <tr>\n",
       "      <th>4</th>\n",
       "      <td>0</td>\n",
       "      <td>3418368</td>\n",
       "      <td>0</td>\n",
       "      <td>1</td>\n",
       "      <td>mansM6bIlckDBqXz7zIl+IJeUAIfrXYa5wIgb3fzoO8=</td>\n",
       "      <td>0</td>\n",
       "    </tr>\n",
       "  </tbody>\n",
       "</table>\n",
       "</div>"
      ],
      "text/plain": [
       "   time   job_id  task_index  comparison_operator  \\\n",
       "0     0  3418314           0                    1   \n",
       "1     0  3418314           0                    0   \n",
       "2     0  3418314           1                    1   \n",
       "3     0  3418314           1                    0   \n",
       "4     0  3418368           0                    1   \n",
       "\n",
       "                                 attribute_name attribute_value  \n",
       "0  mansM6bIlckDBqXz7zIl+IJeUAIfrXYa5wIgb3fzoO8=               0  \n",
       "1  o/0PSEOQ9jWyzNMXehU3dXqePQIE2QxyxyknZMT1k4c=             NaN  \n",
       "2  mansM6bIlckDBqXz7zIl+IJeUAIfrXYa5wIgb3fzoO8=               0  \n",
       "3  o/0PSEOQ9jWyzNMXehU3dXqePQIE2QxyxyknZMT1k4c=             NaN  \n",
       "4  mansM6bIlckDBqXz7zIl+IJeUAIfrXYa5wIgb3fzoO8=               0  "
      ]
     },
     "execution_count": 7,
     "metadata": {},
     "output_type": "execute_result"
    }
   ],
   "source": [
    "# load task constraints\n",
    "types_tc = {'time': np.int_, 'job_id': np.int_, \\\n",
    "            'task_index': np.int_, 'comparison_operator': np.int_, \\\n",
    "            'attribute_name': np.object_, 'attribute_value': np.object_}\n",
    "task_constraints = pd.read_csv(task_constraints_file, header=None, names=types_tc.keys(), dtype=types_tc)\n",
    "task_constraints.head()"
   ]
  },
  {
   "cell_type": "code",
   "execution_count": 8,
   "metadata": {
    "collapsed": false
   },
   "outputs": [
    {
     "data": {
      "text/html": [
       "<div>\n",
       "<table border=\"1\" class=\"dataframe\">\n",
       "  <thead>\n",
       "    <tr style=\"text-align: right;\">\n",
       "      <th></th>\n",
       "      <th>start_time</th>\n",
       "      <th>end_time</th>\n",
       "      <th>job_id</th>\n",
       "      <th>task_index</th>\n",
       "      <th>machine_id</th>\n",
       "      <th>cpu_rate</th>\n",
       "      <th>canonical_mem_usage</th>\n",
       "      <th>assigned_mem_usage</th>\n",
       "      <th>unmapped_page_cache</th>\n",
       "      <th>total_page_cache</th>\n",
       "      <th>max_mem</th>\n",
       "      <th>disk_io_time</th>\n",
       "      <th>local_disk_space</th>\n",
       "      <th>max_cpu_rate</th>\n",
       "      <th>max_disk_io_time</th>\n",
       "      <th>cycles_per_instr</th>\n",
       "      <th>mem_accesses_per_instr</th>\n",
       "      <th>sample_portions</th>\n",
       "      <th>aggregation_type</th>\n",
       "      <th>sampled_cpu_usage</th>\n",
       "    </tr>\n",
       "  </thead>\n",
       "  <tbody>\n",
       "    <tr>\n",
       "      <th>0</th>\n",
       "      <td>600000000</td>\n",
       "      <td>900000000</td>\n",
       "      <td>3418309</td>\n",
       "      <td>0</td>\n",
       "      <td>4155527081</td>\n",
       "      <td>0.001562</td>\n",
       "      <td>0.06787</td>\n",
       "      <td>0.07568</td>\n",
       "      <td>0.001156</td>\n",
       "      <td>0.001503</td>\n",
       "      <td>0.06787</td>\n",
       "      <td>0.000003</td>\n",
       "      <td>0.000187</td>\n",
       "      <td>0.039670</td>\n",
       "      <td>0.000357</td>\n",
       "      <td>2.445</td>\n",
       "      <td>0.007243</td>\n",
       "      <td>0.0</td>\n",
       "      <td>True</td>\n",
       "      <td>0.0</td>\n",
       "    </tr>\n",
       "    <tr>\n",
       "      <th>1</th>\n",
       "      <td>600000000</td>\n",
       "      <td>900000000</td>\n",
       "      <td>3418309</td>\n",
       "      <td>1</td>\n",
       "      <td>329150663</td>\n",
       "      <td>0.001568</td>\n",
       "      <td>0.06787</td>\n",
       "      <td>0.07556</td>\n",
       "      <td>0.000319</td>\n",
       "      <td>0.000700</td>\n",
       "      <td>0.06787</td>\n",
       "      <td>0.000006</td>\n",
       "      <td>0.000188</td>\n",
       "      <td>0.033020</td>\n",
       "      <td>0.000929</td>\n",
       "      <td>2.100</td>\n",
       "      <td>0.005791</td>\n",
       "      <td>0.0</td>\n",
       "      <td>True</td>\n",
       "      <td>0.0</td>\n",
       "    </tr>\n",
       "    <tr>\n",
       "      <th>2</th>\n",
       "      <td>600000000</td>\n",
       "      <td>900000000</td>\n",
       "      <td>3418314</td>\n",
       "      <td>0</td>\n",
       "      <td>3938719206</td>\n",
       "      <td>0.000307</td>\n",
       "      <td>0.08044</td>\n",
       "      <td>0.09521</td>\n",
       "      <td>0.000282</td>\n",
       "      <td>0.000670</td>\n",
       "      <td>0.08044</td>\n",
       "      <td>0.000005</td>\n",
       "      <td>0.000184</td>\n",
       "      <td>0.023770</td>\n",
       "      <td>0.000786</td>\n",
       "      <td>5.588</td>\n",
       "      <td>0.020800</td>\n",
       "      <td>0.0</td>\n",
       "      <td>True</td>\n",
       "      <td>0.0</td>\n",
       "    </tr>\n",
       "    <tr>\n",
       "      <th>3</th>\n",
       "      <td>600000000</td>\n",
       "      <td>900000000</td>\n",
       "      <td>3418314</td>\n",
       "      <td>1</td>\n",
       "      <td>351618647</td>\n",
       "      <td>0.000300</td>\n",
       "      <td>0.08044</td>\n",
       "      <td>0.09521</td>\n",
       "      <td>0.000537</td>\n",
       "      <td>0.000870</td>\n",
       "      <td>0.08044</td>\n",
       "      <td>0.000010</td>\n",
       "      <td>0.000183</td>\n",
       "      <td>0.007919</td>\n",
       "      <td>0.002285</td>\n",
       "      <td>5.198</td>\n",
       "      <td>0.020380</td>\n",
       "      <td>0.0</td>\n",
       "      <td>True</td>\n",
       "      <td>0.0</td>\n",
       "    </tr>\n",
       "    <tr>\n",
       "      <th>4</th>\n",
       "      <td>600000000</td>\n",
       "      <td>900000000</td>\n",
       "      <td>3418319</td>\n",
       "      <td>0</td>\n",
       "      <td>431052910</td>\n",
       "      <td>0.000461</td>\n",
       "      <td>0.07715</td>\n",
       "      <td>0.08740</td>\n",
       "      <td>0.000625</td>\n",
       "      <td>0.000852</td>\n",
       "      <td>0.07715</td>\n",
       "      <td>0.000002</td>\n",
       "      <td>0.000204</td>\n",
       "      <td>0.005112</td>\n",
       "      <td>0.000215</td>\n",
       "      <td>2.937</td>\n",
       "      <td>0.009449</td>\n",
       "      <td>0.0</td>\n",
       "      <td>True</td>\n",
       "      <td>0.0</td>\n",
       "    </tr>\n",
       "  </tbody>\n",
       "</table>\n",
       "</div>"
      ],
      "text/plain": [
       "   start_time   end_time   job_id  task_index  machine_id  cpu_rate  \\\n",
       "0   600000000  900000000  3418309           0  4155527081  0.001562   \n",
       "1   600000000  900000000  3418309           1   329150663  0.001568   \n",
       "2   600000000  900000000  3418314           0  3938719206  0.000307   \n",
       "3   600000000  900000000  3418314           1   351618647  0.000300   \n",
       "4   600000000  900000000  3418319           0   431052910  0.000461   \n",
       "\n",
       "   canonical_mem_usage  assigned_mem_usage  unmapped_page_cache  \\\n",
       "0              0.06787             0.07568             0.001156   \n",
       "1              0.06787             0.07556             0.000319   \n",
       "2              0.08044             0.09521             0.000282   \n",
       "3              0.08044             0.09521             0.000537   \n",
       "4              0.07715             0.08740             0.000625   \n",
       "\n",
       "   total_page_cache  max_mem  disk_io_time  local_disk_space  max_cpu_rate  \\\n",
       "0          0.001503  0.06787      0.000003          0.000187      0.039670   \n",
       "1          0.000700  0.06787      0.000006          0.000188      0.033020   \n",
       "2          0.000670  0.08044      0.000005          0.000184      0.023770   \n",
       "3          0.000870  0.08044      0.000010          0.000183      0.007919   \n",
       "4          0.000852  0.07715      0.000002          0.000204      0.005112   \n",
       "\n",
       "   max_disk_io_time  cycles_per_instr  mem_accesses_per_instr  \\\n",
       "0          0.000357             2.445                0.007243   \n",
       "1          0.000929             2.100                0.005791   \n",
       "2          0.000786             5.588                0.020800   \n",
       "3          0.002285             5.198                0.020380   \n",
       "4          0.000215             2.937                0.009449   \n",
       "\n",
       "   sample_portions aggregation_type  sampled_cpu_usage  \n",
       "0              0.0             True                0.0  \n",
       "1              0.0             True                0.0  \n",
       "2              0.0             True                0.0  \n",
       "3              0.0             True                0.0  \n",
       "4              0.0             True                0.0  "
      ]
     },
     "execution_count": 8,
     "metadata": {},
     "output_type": "execute_result"
    }
   ],
   "source": [
    "# load task usage\n",
    "types_tu = {'start_time': np.int_, 'end_time': np.int_, \\\n",
    "           'job_id': np.int_, 'task_index': np.int_, \\\n",
    "           'machine_id': np.int_, 'cpu_rate': np.float_, \\\n",
    "           'canonical_mem_usage': np.float_, 'assigned_mem_usage': np.float_, \\\n",
    "           'unmapped_page_cache': np.float_, 'total_page_cache': np.float_, \\\n",
    "           'max_mem': np.float_, 'disk_io_time': np.float_, \\\n",
    "           'local_disk_space': np.float_, 'max_cpu_rate': np.float_, \\\n",
    "           'max_disk_io_time': np.float_, 'cycles_per_instr': np.float_, \\\n",
    "           'mem_accesses_per_instr': np.float_, 'sample_portions': np.float_, \\\n",
    "           'aggregation_type': np.bool_, 'sampled_cpu_usage': np.float_}\n",
    "task_usage = pd.read_csv(task_usage_file, header=None, names=types_tu.keys(), dtype=types_tu)\n",
    "\n",
    "task_usage.head()"
   ]
  },
  {
   "cell_type": "code",
   "execution_count": 9,
   "metadata": {
    "collapsed": false,
    "scrolled": true
   },
   "outputs": [
    {
     "data": {
      "text/html": [
       "<div>\n",
       "<table border=\"1\" class=\"dataframe\">\n",
       "  <thead>\n",
       "    <tr style=\"text-align: right;\">\n",
       "      <th></th>\n",
       "      <th></th>\n",
       "      <th>cycles</th>\n",
       "      <th>max_mem</th>\n",
       "      <th>duration</th>\n",
       "      <th>cps</th>\n",
       "    </tr>\n",
       "    <tr>\n",
       "      <th>job_id</th>\n",
       "      <th>task_index</th>\n",
       "      <th></th>\n",
       "      <th></th>\n",
       "      <th></th>\n",
       "      <th></th>\n",
       "    </tr>\n",
       "  </thead>\n",
       "  <tbody>\n",
       "    <tr>\n",
       "      <th rowspan=\"2\" valign=\"top\">3418309</th>\n",
       "      <th>0</th>\n",
       "      <td>7719300</td>\n",
       "      <td>0.067870</td>\n",
       "      <td>5100000000</td>\n",
       "      <td>0.001514</td>\n",
       "    </tr>\n",
       "    <tr>\n",
       "      <th>1</th>\n",
       "      <td>7115397</td>\n",
       "      <td>0.067870</td>\n",
       "      <td>5100000000</td>\n",
       "      <td>0.001395</td>\n",
       "    </tr>\n",
       "    <tr>\n",
       "      <th rowspan=\"2\" valign=\"top\">3418314</th>\n",
       "      <th>0</th>\n",
       "      <td>1237646</td>\n",
       "      <td>0.080440</td>\n",
       "      <td>5100000000</td>\n",
       "      <td>0.000243</td>\n",
       "    </tr>\n",
       "    <tr>\n",
       "      <th>1</th>\n",
       "      <td>1267437</td>\n",
       "      <td>0.080440</td>\n",
       "      <td>5100000000</td>\n",
       "      <td>0.000249</td>\n",
       "    </tr>\n",
       "    <tr>\n",
       "      <th rowspan=\"2\" valign=\"top\">3418319</th>\n",
       "      <th>0</th>\n",
       "      <td>2545168</td>\n",
       "      <td>0.077150</td>\n",
       "      <td>5100000000</td>\n",
       "      <td>0.000499</td>\n",
       "    </tr>\n",
       "    <tr>\n",
       "      <th>1</th>\n",
       "      <td>2600005</td>\n",
       "      <td>0.076780</td>\n",
       "      <td>5100000000</td>\n",
       "      <td>0.000510</td>\n",
       "    </tr>\n",
       "    <tr>\n",
       "      <th rowspan=\"2\" valign=\"top\">3418324</th>\n",
       "      <th>0</th>\n",
       "      <td>1679666</td>\n",
       "      <td>0.081180</td>\n",
       "      <td>5100000000</td>\n",
       "      <td>0.000329</td>\n",
       "    </tr>\n",
       "    <tr>\n",
       "      <th>1</th>\n",
       "      <td>1401118</td>\n",
       "      <td>0.080690</td>\n",
       "      <td>5100000000</td>\n",
       "      <td>0.000275</td>\n",
       "    </tr>\n",
       "    <tr>\n",
       "      <th rowspan=\"3\" valign=\"top\">3418329</th>\n",
       "      <th>0</th>\n",
       "      <td>10122597</td>\n",
       "      <td>0.091060</td>\n",
       "      <td>5100000000</td>\n",
       "      <td>0.001985</td>\n",
       "    </tr>\n",
       "    <tr>\n",
       "      <th>1</th>\n",
       "      <td>10986897</td>\n",
       "      <td>0.090940</td>\n",
       "      <td>5100000000</td>\n",
       "      <td>0.002154</td>\n",
       "    </tr>\n",
       "    <tr>\n",
       "      <th>2</th>\n",
       "      <td>10316099</td>\n",
       "      <td>0.091060</td>\n",
       "      <td>5100000000</td>\n",
       "      <td>0.002023</td>\n",
       "    </tr>\n",
       "    <tr>\n",
       "      <th rowspan=\"2\" valign=\"top\">3418334</th>\n",
       "      <th>0</th>\n",
       "      <td>4877606</td>\n",
       "      <td>0.084960</td>\n",
       "      <td>5100000000</td>\n",
       "      <td>0.000956</td>\n",
       "    </tr>\n",
       "    <tr>\n",
       "      <th>1</th>\n",
       "      <td>5135728</td>\n",
       "      <td>0.084840</td>\n",
       "      <td>5100000000</td>\n",
       "      <td>0.001007</td>\n",
       "    </tr>\n",
       "    <tr>\n",
       "      <th rowspan=\"17\" valign=\"top\">3418339</th>\n",
       "      <th>0</th>\n",
       "      <td>170414997</td>\n",
       "      <td>0.089110</td>\n",
       "      <td>5100000000</td>\n",
       "      <td>0.033415</td>\n",
       "    </tr>\n",
       "    <tr>\n",
       "      <th>1</th>\n",
       "      <td>168887996</td>\n",
       "      <td>0.088750</td>\n",
       "      <td>5100000000</td>\n",
       "      <td>0.033115</td>\n",
       "    </tr>\n",
       "    <tr>\n",
       "      <th>2</th>\n",
       "      <td>178704000</td>\n",
       "      <td>0.088620</td>\n",
       "      <td>5100000000</td>\n",
       "      <td>0.035040</td>\n",
       "    </tr>\n",
       "    <tr>\n",
       "      <th>3</th>\n",
       "      <td>175220999</td>\n",
       "      <td>0.088620</td>\n",
       "      <td>5100000000</td>\n",
       "      <td>0.034357</td>\n",
       "    </tr>\n",
       "    <tr>\n",
       "      <th>4</th>\n",
       "      <td>197220000</td>\n",
       "      <td>0.088620</td>\n",
       "      <td>5100000000</td>\n",
       "      <td>0.038671</td>\n",
       "    </tr>\n",
       "    <tr>\n",
       "      <th>5</th>\n",
       "      <td>168968999</td>\n",
       "      <td>0.088620</td>\n",
       "      <td>5100000000</td>\n",
       "      <td>0.033131</td>\n",
       "    </tr>\n",
       "    <tr>\n",
       "      <th>6</th>\n",
       "      <td>181970998</td>\n",
       "      <td>0.088620</td>\n",
       "      <td>5100000000</td>\n",
       "      <td>0.035681</td>\n",
       "    </tr>\n",
       "    <tr>\n",
       "      <th>7</th>\n",
       "      <td>158613000</td>\n",
       "      <td>0.088620</td>\n",
       "      <td>5100000000</td>\n",
       "      <td>0.031101</td>\n",
       "    </tr>\n",
       "    <tr>\n",
       "      <th>8</th>\n",
       "      <td>164103000</td>\n",
       "      <td>0.088380</td>\n",
       "      <td>5100000000</td>\n",
       "      <td>0.032177</td>\n",
       "    </tr>\n",
       "    <tr>\n",
       "      <th>9</th>\n",
       "      <td>182537999</td>\n",
       "      <td>0.088750</td>\n",
       "      <td>5100000000</td>\n",
       "      <td>0.035792</td>\n",
       "    </tr>\n",
       "    <tr>\n",
       "      <th>10</th>\n",
       "      <td>183101999</td>\n",
       "      <td>0.088620</td>\n",
       "      <td>5100000000</td>\n",
       "      <td>0.035902</td>\n",
       "    </tr>\n",
       "    <tr>\n",
       "      <th>11</th>\n",
       "      <td>174335998</td>\n",
       "      <td>0.088990</td>\n",
       "      <td>5100000000</td>\n",
       "      <td>0.034184</td>\n",
       "    </tr>\n",
       "    <tr>\n",
       "      <th>12</th>\n",
       "      <td>194774999</td>\n",
       "      <td>0.088750</td>\n",
       "      <td>5100000000</td>\n",
       "      <td>0.038191</td>\n",
       "    </tr>\n",
       "    <tr>\n",
       "      <th>13</th>\n",
       "      <td>175415997</td>\n",
       "      <td>0.088870</td>\n",
       "      <td>5100000000</td>\n",
       "      <td>0.034395</td>\n",
       "    </tr>\n",
       "    <tr>\n",
       "      <th>14</th>\n",
       "      <td>174608999</td>\n",
       "      <td>0.088750</td>\n",
       "      <td>5100000000</td>\n",
       "      <td>0.034237</td>\n",
       "    </tr>\n",
       "    <tr>\n",
       "      <th>15</th>\n",
       "      <td>166434000</td>\n",
       "      <td>0.088500</td>\n",
       "      <td>5100000000</td>\n",
       "      <td>0.032634</td>\n",
       "    </tr>\n",
       "    <tr>\n",
       "      <th>16</th>\n",
       "      <td>159281998</td>\n",
       "      <td>0.088990</td>\n",
       "      <td>5100000000</td>\n",
       "      <td>0.031232</td>\n",
       "    </tr>\n",
       "    <tr>\n",
       "      <th>...</th>\n",
       "      <th>...</th>\n",
       "      <td>...</td>\n",
       "      <td>...</td>\n",
       "      <td>...</td>\n",
       "      <td>...</td>\n",
       "    </tr>\n",
       "    <tr>\n",
       "      <th rowspan=\"2\" valign=\"top\">5950830609</th>\n",
       "      <th>248</th>\n",
       "      <td>140144995</td>\n",
       "      <td>0.017850</td>\n",
       "      <td>5100000000</td>\n",
       "      <td>0.027479</td>\n",
       "    </tr>\n",
       "    <tr>\n",
       "      <th>249</th>\n",
       "      <td>138783000</td>\n",
       "      <td>0.025150</td>\n",
       "      <td>5100000000</td>\n",
       "      <td>0.027212</td>\n",
       "    </tr>\n",
       "    <tr>\n",
       "      <th rowspan=\"19\" valign=\"top\">5950955866</th>\n",
       "      <th>4</th>\n",
       "      <td>1019938</td>\n",
       "      <td>0.000377</td>\n",
       "      <td>5100000000</td>\n",
       "      <td>0.000200</td>\n",
       "    </tr>\n",
       "    <tr>\n",
       "      <th>6</th>\n",
       "      <td>944219</td>\n",
       "      <td>0.000366</td>\n",
       "      <td>5100000000</td>\n",
       "      <td>0.000185</td>\n",
       "    </tr>\n",
       "    <tr>\n",
       "      <th>14</th>\n",
       "      <td>877707</td>\n",
       "      <td>0.000442</td>\n",
       "      <td>4800000000</td>\n",
       "      <td>0.000183</td>\n",
       "    </tr>\n",
       "    <tr>\n",
       "      <th>38</th>\n",
       "      <td>1028785</td>\n",
       "      <td>0.000351</td>\n",
       "      <td>5100000000</td>\n",
       "      <td>0.000202</td>\n",
       "    </tr>\n",
       "    <tr>\n",
       "      <th>48</th>\n",
       "      <td>962995</td>\n",
       "      <td>0.000366</td>\n",
       "      <td>5100000000</td>\n",
       "      <td>0.000189</td>\n",
       "    </tr>\n",
       "    <tr>\n",
       "      <th>51</th>\n",
       "      <td>858626</td>\n",
       "      <td>0.000364</td>\n",
       "      <td>4800000000</td>\n",
       "      <td>0.000179</td>\n",
       "    </tr>\n",
       "    <tr>\n",
       "      <th>53</th>\n",
       "      <td>944728</td>\n",
       "      <td>0.000367</td>\n",
       "      <td>5100000000</td>\n",
       "      <td>0.000185</td>\n",
       "    </tr>\n",
       "    <tr>\n",
       "      <th>97</th>\n",
       "      <td>887246</td>\n",
       "      <td>0.000469</td>\n",
       "      <td>4800000000</td>\n",
       "      <td>0.000185</td>\n",
       "    </tr>\n",
       "    <tr>\n",
       "      <th>98</th>\n",
       "      <td>871498</td>\n",
       "      <td>0.000368</td>\n",
       "      <td>5100000000</td>\n",
       "      <td>0.000171</td>\n",
       "    </tr>\n",
       "    <tr>\n",
       "      <th>101</th>\n",
       "      <td>942686</td>\n",
       "      <td>0.000373</td>\n",
       "      <td>5100000000</td>\n",
       "      <td>0.000185</td>\n",
       "    </tr>\n",
       "    <tr>\n",
       "      <th>165</th>\n",
       "      <td>855089</td>\n",
       "      <td>0.000559</td>\n",
       "      <td>4800000000</td>\n",
       "      <td>0.000178</td>\n",
       "    </tr>\n",
       "    <tr>\n",
       "      <th>168</th>\n",
       "      <td>910975</td>\n",
       "      <td>0.000365</td>\n",
       "      <td>5100000000</td>\n",
       "      <td>0.000179</td>\n",
       "    </tr>\n",
       "    <tr>\n",
       "      <th>189</th>\n",
       "      <td>928195</td>\n",
       "      <td>0.000367</td>\n",
       "      <td>5100000000</td>\n",
       "      <td>0.000182</td>\n",
       "    </tr>\n",
       "    <tr>\n",
       "      <th>200</th>\n",
       "      <td>955854</td>\n",
       "      <td>0.000368</td>\n",
       "      <td>5100000000</td>\n",
       "      <td>0.000187</td>\n",
       "    </tr>\n",
       "    <tr>\n",
       "      <th>225</th>\n",
       "      <td>960090</td>\n",
       "      <td>0.001734</td>\n",
       "      <td>4792000000</td>\n",
       "      <td>0.000200</td>\n",
       "    </tr>\n",
       "    <tr>\n",
       "      <th>227</th>\n",
       "      <td>1010188</td>\n",
       "      <td>0.000417</td>\n",
       "      <td>5100000000</td>\n",
       "      <td>0.000198</td>\n",
       "    </tr>\n",
       "    <tr>\n",
       "      <th>239</th>\n",
       "      <td>820890</td>\n",
       "      <td>0.000363</td>\n",
       "      <td>5100000000</td>\n",
       "      <td>0.000161</td>\n",
       "    </tr>\n",
       "    <tr>\n",
       "      <th>245</th>\n",
       "      <td>902603</td>\n",
       "      <td>0.000370</td>\n",
       "      <td>5100000000</td>\n",
       "      <td>0.000177</td>\n",
       "    </tr>\n",
       "    <tr>\n",
       "      <th>247</th>\n",
       "      <td>912629</td>\n",
       "      <td>0.000577</td>\n",
       "      <td>4800000000</td>\n",
       "      <td>0.000190</td>\n",
       "    </tr>\n",
       "    <tr>\n",
       "      <th>5951741170</th>\n",
       "      <th>0</th>\n",
       "      <td>1464210</td>\n",
       "      <td>0.002457</td>\n",
       "      <td>5100000000</td>\n",
       "      <td>0.000287</td>\n",
       "    </tr>\n",
       "    <tr>\n",
       "      <th>5960549651</th>\n",
       "      <th>0</th>\n",
       "      <td>987297</td>\n",
       "      <td>0.001045</td>\n",
       "      <td>5100000000</td>\n",
       "      <td>0.000194</td>\n",
       "    </tr>\n",
       "    <tr>\n",
       "      <th>5960549653</th>\n",
       "      <th>0</th>\n",
       "      <td>1022757</td>\n",
       "      <td>0.001419</td>\n",
       "      <td>5100000000</td>\n",
       "      <td>0.000201</td>\n",
       "    </tr>\n",
       "    <tr>\n",
       "      <th>5960549668</th>\n",
       "      <th>0</th>\n",
       "      <td>1013095</td>\n",
       "      <td>0.001471</td>\n",
       "      <td>5100000000</td>\n",
       "      <td>0.000199</td>\n",
       "    </tr>\n",
       "    <tr>\n",
       "      <th>5960855691</th>\n",
       "      <th>0</th>\n",
       "      <td>1369078</td>\n",
       "      <td>0.000055</td>\n",
       "      <td>5100000000</td>\n",
       "      <td>0.000268</td>\n",
       "    </tr>\n",
       "    <tr>\n",
       "      <th>5960855745</th>\n",
       "      <th>0</th>\n",
       "      <td>12553495</td>\n",
       "      <td>0.040100</td>\n",
       "      <td>5100000000</td>\n",
       "      <td>0.002461</td>\n",
       "    </tr>\n",
       "    <tr>\n",
       "      <th>5960855768</th>\n",
       "      <th>0</th>\n",
       "      <td>19259398</td>\n",
       "      <td>0.038820</td>\n",
       "      <td>5100000000</td>\n",
       "      <td>0.003776</td>\n",
       "    </tr>\n",
       "    <tr>\n",
       "      <th rowspan=\"2\" valign=\"top\">5960925238</th>\n",
       "      <th>0</th>\n",
       "      <td>461757</td>\n",
       "      <td>0.000298</td>\n",
       "      <td>5100000000</td>\n",
       "      <td>0.000091</td>\n",
       "    </tr>\n",
       "    <tr>\n",
       "      <th>1</th>\n",
       "      <td>74669997</td>\n",
       "      <td>0.003906</td>\n",
       "      <td>5100000000</td>\n",
       "      <td>0.014641</td>\n",
       "    </tr>\n",
       "  </tbody>\n",
       "</table>\n",
       "<p>50205 rows × 4 columns</p>\n",
       "</div>"
      ],
      "text/plain": [
       "                          cycles   max_mem    duration       cps\n",
       "job_id     task_index                                           \n",
       "3418309    0             7719300  0.067870  5100000000  0.001514\n",
       "           1             7115397  0.067870  5100000000  0.001395\n",
       "3418314    0             1237646  0.080440  5100000000  0.000243\n",
       "           1             1267437  0.080440  5100000000  0.000249\n",
       "3418319    0             2545168  0.077150  5100000000  0.000499\n",
       "           1             2600005  0.076780  5100000000  0.000510\n",
       "3418324    0             1679666  0.081180  5100000000  0.000329\n",
       "           1             1401118  0.080690  5100000000  0.000275\n",
       "3418329    0            10122597  0.091060  5100000000  0.001985\n",
       "           1            10986897  0.090940  5100000000  0.002154\n",
       "           2            10316099  0.091060  5100000000  0.002023\n",
       "3418334    0             4877606  0.084960  5100000000  0.000956\n",
       "           1             5135728  0.084840  5100000000  0.001007\n",
       "3418339    0           170414997  0.089110  5100000000  0.033415\n",
       "           1           168887996  0.088750  5100000000  0.033115\n",
       "           2           178704000  0.088620  5100000000  0.035040\n",
       "           3           175220999  0.088620  5100000000  0.034357\n",
       "           4           197220000  0.088620  5100000000  0.038671\n",
       "           5           168968999  0.088620  5100000000  0.033131\n",
       "           6           181970998  0.088620  5100000000  0.035681\n",
       "           7           158613000  0.088620  5100000000  0.031101\n",
       "           8           164103000  0.088380  5100000000  0.032177\n",
       "           9           182537999  0.088750  5100000000  0.035792\n",
       "           10          183101999  0.088620  5100000000  0.035902\n",
       "           11          174335998  0.088990  5100000000  0.034184\n",
       "           12          194774999  0.088750  5100000000  0.038191\n",
       "           13          175415997  0.088870  5100000000  0.034395\n",
       "           14          174608999  0.088750  5100000000  0.034237\n",
       "           15          166434000  0.088500  5100000000  0.032634\n",
       "           16          159281998  0.088990  5100000000  0.031232\n",
       "...                          ...       ...         ...       ...\n",
       "5950830609 248         140144995  0.017850  5100000000  0.027479\n",
       "           249         138783000  0.025150  5100000000  0.027212\n",
       "5950955866 4             1019938  0.000377  5100000000  0.000200\n",
       "           6              944219  0.000366  5100000000  0.000185\n",
       "           14             877707  0.000442  4800000000  0.000183\n",
       "           38            1028785  0.000351  5100000000  0.000202\n",
       "           48             962995  0.000366  5100000000  0.000189\n",
       "           51             858626  0.000364  4800000000  0.000179\n",
       "           53             944728  0.000367  5100000000  0.000185\n",
       "           97             887246  0.000469  4800000000  0.000185\n",
       "           98             871498  0.000368  5100000000  0.000171\n",
       "           101            942686  0.000373  5100000000  0.000185\n",
       "           165            855089  0.000559  4800000000  0.000178\n",
       "           168            910975  0.000365  5100000000  0.000179\n",
       "           189            928195  0.000367  5100000000  0.000182\n",
       "           200            955854  0.000368  5100000000  0.000187\n",
       "           225            960090  0.001734  4792000000  0.000200\n",
       "           227           1010188  0.000417  5100000000  0.000198\n",
       "           239            820890  0.000363  5100000000  0.000161\n",
       "           245            902603  0.000370  5100000000  0.000177\n",
       "           247            912629  0.000577  4800000000  0.000190\n",
       "5951741170 0             1464210  0.002457  5100000000  0.000287\n",
       "5960549651 0              987297  0.001045  5100000000  0.000194\n",
       "5960549653 0             1022757  0.001419  5100000000  0.000201\n",
       "5960549668 0             1013095  0.001471  5100000000  0.000199\n",
       "5960855691 0             1369078  0.000055  5100000000  0.000268\n",
       "5960855745 0            12553495  0.040100  5100000000  0.002461\n",
       "5960855768 0            19259398  0.038820  5100000000  0.003776\n",
       "5960925238 0              461757  0.000298  5100000000  0.000091\n",
       "           1            74669997  0.003906  5100000000  0.014641\n",
       "\n",
       "[50205 rows x 4 columns]"
      ]
     },
     "execution_count": 9,
     "metadata": {},
     "output_type": "execute_result"
    }
   ],
   "source": [
    "# tu = task_usage[task_usage.job_id==3996125377][task_usage.cpu_rate>0.0]\n",
    "jids = pd.unique(task_usage.job_id)\n",
    "jids = jids[0:2000]\n",
    "tu = task_usage[task_usage.job_id.isin(jids)].query(\"cpu_rate>0.0\")\n",
    "\n",
    "def aggr(x):\n",
    "    return int(x.cpu_rate * (x.end_time - x.start_time))\n",
    "\n",
    "tu['cycles'] = tu.apply(lambda row: aggr(row), axis=1)\n",
    "tu['duration'] = tu.apply(lambda row: row.end_time - row.start_time, axis=1)\n",
    "tu.head()\n",
    "atu = tu.groupby([\"job_id\", \"task_index\"]).agg({'cycles' : 'sum', 'max_mem': 'max', 'duration': 'sum'})\n",
    "atu['cps'] = atu.apply(lambda row: row.cycles / row.duration, axis=1)\n",
    "atu\n",
    "#tu.head()\n"
   ]
  },
  {
   "cell_type": "code",
   "execution_count": 10,
   "metadata": {
    "collapsed": false,
    "scrolled": false
   },
   "outputs": [
    {
     "data": {
      "image/png": "[encoded data removed]",
      "text/plain": [
       "<matplotlib.figure.Figure at 0x7f3ce608f320>"
      ]
     },
     "metadata": {},
     "output_type": "display_data"
    },
    {
     "data": {
      "image/png": "[encoded data removed]",
      "text/plain": [
       "<matplotlib.figure.Figure at 0x7f3ce5eb2eb8>"
      ]
     },
     "metadata": {},
     "output_type": "display_data"
    },
    {
     "data": {
      "image/png": "[encoded data removed]",
      "text/plain": [
       "<matplotlib.figure.Figure at 0x7f3cdf2e0d30>"
      ]
     },
     "metadata": {},
     "output_type": "display_data"
    },
    {
     "data": {
      "image/png": "[encoded data removed]",
      "text/plain": [
       "<matplotlib.figure.Figure at 0x7f3cdf354da0>"
      ]
     },
     "metadata": {},
     "output_type": "display_data"
    },
    {
     "data": {
      "image/png": "[encoded data removed]",
      "text/plain": [
       "<matplotlib.figure.Figure at 0x7f3ce5ee1da0>"
      ]
     },
     "metadata": {},
     "output_type": "display_data"
    },
    {
     "data": {
      "image/png": "[encoded data removed]",
      "text/plain": [
       "<matplotlib.figure.Figure at 0x7f3ce5fb2f60>"
      ]
     },
     "metadata": {},
     "output_type": "display_data"
    },
    {
     "data": {
      "image/png": "[encoded data removed]",
      "text/plain": [
       "<matplotlib.figure.Figure at 0x7f3cdf3c36a0>"
      ]
     },
     "metadata": {},
     "output_type": "display_data"
    }
   ],
   "source": [
    "from matplotlib import cm\n",
    "from matplotlib.colors import LogNorm\n",
    "\n",
    "plt.figure(figsize=(20,5))\n",
    "y = atu.cps.values\n",
    "y = y[y>0.001]\n",
    "n, bins, patches = plt.hist(y, 32)\n",
    "plt.yscale('log')\n",
    "plt.show()\n",
    "\n",
    "plt.figure(figsize=(20,5))\n",
    "y = atu.cps.values\n",
    "y = y[y>0.001]\n",
    "n, bins, patches = plt.hist(y, 128)\n",
    "plt.yscale('log')\n",
    "plt.show()\n",
    "\n",
    "\n",
    "plt.figure(figsize=(20,5))\n",
    "y = atu.max_mem.values\n",
    "y=y[y<0.15]\n",
    "n, bins, patches = plt.hist(y, 2)\n",
    "plt.yscale('log')\n",
    "plt.show()\n",
    "\n",
    "plt.figure(figsize=(20,5))\n",
    "y = atu.max_mem.values\n",
    "y=y[y<0.15]\n",
    "n, bins, patches = plt.hist(y, 32)\n",
    "plt.yscale('log')\n",
    "plt.show()\n",
    "\n",
    "plt.figure(figsize=(20,5))\n",
    "y = atu.max_mem.values\n",
    "y=y[y<0.15]\n",
    "n, bins, patches = plt.hist(y, 256)\n",
    "plt.yscale('log')\n",
    "plt.show()\n",
    "\n",
    "plt.figure(figsize=(20,5))\n",
    "y = atu.max_mem.values / atu.cps.values\n",
    "n, bins, patches = plt.hist(y, 64)\n",
    "plt.yscale('log')\n",
    "plt.show()\n",
    "\n",
    "plt.figure(figsize=(6,6))\n",
    "tu = atu.query(\"max_mem<0.3 and cps<0.3\")\n",
    "x = tu.max_mem.values\n",
    "y = tu.cps.values\n",
    "n2d, binx, biny, imagequad = plt.hist2d(x, y, bins=256,cmap=cm.jet,norm=LogNorm())\n",
    "plt.show()\n"
   ]
  },
  {
   "cell_type": "code",
   "execution_count": 194,
   "metadata": {
    "collapsed": false,
    "scrolled": false
   },
   "outputs": [
    {
     "data": {
      "image/png": "[encoded data removed]",
      "text/plain": [
       "<matplotlib.figure.Figure at 0x7f3ccf7004a8>"
      ]
     },
     "metadata": {},
     "output_type": "display_data"
    },
    {
     "data": {
      "image/png": "[encoded data removed]",
      "text/plain": [
       "<matplotlib.figure.Figure at 0x7f3ccea9e7f0>"
      ]
     },
     "metadata": {},
     "output_type": "display_data"
    },
    {
     "data": {
      "image/png": "[encoded data removed]",
      "text/plain": [
       "<matplotlib.figure.Figure at 0x7f3ccec0c390>"
      ]
     },
     "metadata": {},
     "output_type": "display_data"
    },
    {
     "data": {
      "image/png": "[encoded data removed]",
      "text/plain": [
       "<matplotlib.figure.Figure at 0x7f3ce5b1ef60>"
      ]
     },
     "metadata": {},
     "output_type": "display_data"
    }
   ],
   "source": [
    "from scipy.interpolate import Rbf\n",
    "\n",
    "# plot, hist. 1d, cps\n",
    "plt.figure(figsize=(20,5))\n",
    "n, bins, patches = plt.hist(atu.query(\"max_mem<0.3 and cps<0.3 and cps > 0.001 and max_mem > 0.001\").cps.values, 32)\n",
    "plt.yscale('log')\n",
    "plt.show()\n",
    "\n",
    "xfit = np.linspace(0, 0.3, 96)\n",
    "\n",
    "tup = [(x, y) for x, y in zip(bins, n) if y > 0.0]\n",
    "mybin, myn = zip(*tup)\n",
    "\n",
    "rbfi = Rbf(mybin, myn, epsilon=mybin[1]-mybin[0], function='multiquadric')  # radial basis function interpolator instance\n",
    "y2fit = rbfi(xfit)\n",
    "\n",
    "plt.figure(figsize=(20,5))\n",
    "plt.scatter(mybin, myn)\n",
    "plt.plot(xfit, y2fit)\n",
    "plt.xlim(-0.02, 0.3)\n",
    "plt.yscale('log')\n",
    "plt.show()\n",
    "\n",
    "# 2d ####################################\n",
    "plt.figure(figsize=(6,6))\n",
    "tu = atu.query(\"max_mem<0.3 and cps<0.3 and cps > 0.001 and max_mem > 0.001\")\n",
    "n2d, binx, biny, _ = plt.hist2d(tu.cps.values, tu.max_mem.values, bins=32,cmap=cm.jet, norm=LogNorm())\n",
    "plt.show()\n",
    "\n",
    "binx = binx[:-1]\n",
    "biny = biny[:-1]\n",
    "\n",
    "mgx, mgy = np.meshgrid(binx, biny)\n",
    "\n",
    "# n2d == histogram, column-wise, --> transpose RBF\n",
    "rbfi = Rbf(mgy.flatten(), mgx.flatten(), n2d.flatten(), function='multiquadric')  # radial basis function interpolator instance\n",
    "\n",
    "xfit = np.linspace(0, 0.3, 96)\n",
    "xfitv, yfitv = np.meshgrid(xfit, xfit)\n",
    "fit2d = rbfi(xfitv.flatten(), yfitv.flatten())\n",
    "\n",
    "fit2d = np.array([x if x > 0 else 0.0 for x in fit2d])\n",
    "\n",
    "plt.figure(figsize=(6,6))\n",
    "plt.scatter(xfitv.flatten(), yfitv.flatten(),marker='s',c=fit2d,cmap=cm.jet, norm=LogNorm())\n",
    "plt.show()\n",
    "\n",
    "if False:\n",
    "    import matplotlib.pyplot as plt\n",
    "    from mpl_toolkits.mplot3d import Axes3D\n",
    "\n",
    "    fig = plt.figure(figsize=(15,15))\n",
    "    ax = fig.add_subplot(111, projection='3d')\n",
    "    #ax.plot_surface(xfitv, yfitv, fit2d.reshape(xfitv.shape), cmap=cm.jet,norm=LogNorm())\n",
    "    ax.contourf(mgx, mgy, n2d, cmap=cm.jet,norm=LogNorm())\n",
    "\n",
    "    plt.show()"
   ]
  },
  {
   "cell_type": "code",
   "execution_count": 200,
   "metadata": {
    "collapsed": false
   },
   "outputs": [
    {
     "data": {
      "image/png": "[encoded data removed]",
      "text/plain": [
       "<matplotlib.figure.Figure at 0x7f3ce5e69400>"
      ]
     },
     "metadata": {},
     "output_type": "display_data"
    }
   ],
   "source": [
    "# n, bins\n",
    "# n2d, binx, biny\n",
    "\n",
    "\n",
    "### Version 1 ###\n",
    "def doit():\n",
    "    nn=(n/np.linalg.norm(n, ord=1))\n",
    "    x = np.random.choice(binx, p=nn)\n",
    "    index_x,  = np.where(x == binx)\n",
    "    p_y = n2d[index_x].flatten()\n",
    "    y = np.random.choice(biny, p=p_y/np.linalg.norm(p_y, ord=1))\n",
    "    return (x,y)\n",
    "\n",
    "\n",
    "### Version 2 ###\n",
    "coords = [(x, y) for x in binx for y in biny] \n",
    "vals = n2d.flatten()\n",
    "vals = vals / np.linalg.norm(vals, ord=1)\n",
    "\n",
    "def doit2():\n",
    "    cord_index = np.random.choice(len(coords) , p=vals)\n",
    "    return coords[cord_index]\n",
    "#\n",
    "\n",
    "### Version 3 ###\n",
    "# continuous.\n",
    "ccoords = [(x, y) for x in np.linspace(0, 0.3, 64) for y in np.linspace(0, 0.3, 64)] \n",
    "cdv = [rbfi(x, y) for x, y in ccoords]\n",
    "cdv = [x if x > 0.0 else 0.0 for x in cdv]\n",
    "cdv = cdv / np.linalg.norm(cdv, ord=1)\n",
    "\n",
    "def doit3():\n",
    "    coord_index = np.random.choice(len(ccoords) , p=cdv)\n",
    "    return ccoords[coord_index]\n",
    "#\n",
    "\n",
    "\n",
    "\n",
    "new_data = [doit3() for x in range(0, 100000)]\n",
    "\n",
    "\n",
    "xx , yy = zip(*new_data)\n",
    "plt.figure(figsize=(6,6))\n",
    "plt.hist2d(xx,yy,bins=32,cmap=cm.jet, norm=LogNorm())\n",
    "plt.xlim(0.0, 0.3)\n",
    "plt.ylim(0.0, 0.3)\n",
    "#plt.yscale('log')\n",
    "plt.show()"
   ]
  },
  {
   "cell_type": "markdown",
   "metadata": {},
   "source": [
    "## Workflow\n",
    "\n",
    " - Analyze data, extract histogram\n",
    " - Use histogram interpolate using RBF rbfi\n",
    " - Select points in n-dim. space following the probability density given by rbfi()\n",
    "\n",
    "\n",
    "## Todo\n",
    "\n",
    " - add more dimensions\n",
    " - errors, more errors: real data -> model -> artificial data\n",
    " - formal descriptors\n",
    " "
   ]
  },
  {
   "cell_type": "code",
   "execution_count": 405,
   "metadata": {
    "collapsed": false
   },
   "outputs": [
    {
     "name": "stdout",
     "output_type": "stream",
     "text": [
      "0.752\n"
     ]
    },
    {
     "data": {
      "image/png": "[encoded data removed]",
      "text/plain": [
       "<matplotlib.figure.Figure at 0x7fddc14429b0>"
      ]
     },
     "metadata": {},
     "output_type": "display_data"
    }
   ],
   "source": [
    "    plt.figure(figsize=(20,5))\n",
    "    y = task_usage.max_mem.values\n",
    "    y = y[y>0.02]\n",
    "    print(max(y))\n",
    "    n, bins, patches = plt.hist(y, 100)\n",
    "    plt.show()"
   ]
  },
  {
   "cell_type": "code",
   "execution_count": 451,
   "metadata": {
    "collapsed": false
   },
   "outputs": [
    {
     "name": "stdout",
     "output_type": "stream",
     "text": [
      "0.1997\n"
     ]
    },
    {
     "data": {
      "image/png": "[encoded data removed]",
      "text/plain": [
       "<matplotlib.figure.Figure at 0x7fddbea30e48>"
      ]
     },
     "metadata": {},
     "output_type": "display_data"
    },
    {
     "name": "stdout",
     "output_type": "stream",
     "text": [
      "0.8799\n"
     ]
    },
    {
     "data": {
      "image/png": "[encoded data removed]",
      "text/plain": [
       "<matplotlib.figure.Figure at 0x7fddbe8c20b8>"
      ]
     },
     "metadata": {},
     "output_type": "display_data"
    }
   ],
   "source": [
    "plt.figure(figsize=(20,5))\n",
    "y = task_usage.cpu_rate.values\n",
    "y = y[y<0.2]\n",
    "print(max(y))\n",
    "n, bins, patches = plt.hist(y, 100)\n",
    "plt.yscale('log')\n",
    "plt.show()\n",
    "plt.figure(figsize=(20,5))\n",
    "y = task_usage.sampled_cpu_usage.values\n",
    "#y = y[y<0.2]\n",
    "print(max(y))\n",
    "n, bins, patches = plt.hist(y, 100)\n",
    "plt.yscale('log')\n",
    "plt.show()"
   ]
  },
  {
   "cell_type": "code",
   "execution_count": 147,
   "metadata": {
    "collapsed": false
   },
   "outputs": [
    {
     "name": "stdout",
     "output_type": "stream",
     "text": [
      "(0.39101919467001539, 5.1631802824503204e-177)\n",
      "(0.30400479163877475, 2.8020528019421906e-104)\n",
      "(0.12763119352208732, 4.4753359193064076e-19)\n",
      "(0.76862131417266111, 0.0)\n"
     ]
    },
    {
     "data": {
      "image/png": "[encoded data removed]",
      "text/plain": [
       "<matplotlib.figure.Figure at 0x7fddc7796cf8>"
      ]
     },
     "metadata": {},
     "output_type": "display_data"
    }
   ],
   "source": [
    "plt.figure(figsize=(20,4))\n",
    "total_cpu_rate = task_usage.groupby('job_id')[['max_cpu_rate', 'max_mem', 'disk_io_time', 'local_disk_space']].sum().reset_index()\n",
    "num_tasks = task_usage.groupby('job_id')['task_index'].max().reset_index()\n",
    "#print(total_cpu_rate)\n",
    "from scipy.stats.stats import pearsonr\n",
    "print(pearsonr(num_tasks.task_index.values, total_cpu_rate.max_cpu_rate.values))\n",
    "print(pearsonr(num_tasks.task_index.values, total_cpu_rate.max_mem.values))\n",
    "print(pearsonr(num_tasks.task_index.values, total_cpu_rate.disk_io_time.values))\n",
    "print(pearsonr(num_tasks.task_index.values, total_cpu_rate.local_disk_space.values))\n",
    "total_cpu_rate = total_cpu_rate.sort(['max_cpu_rate'])\n",
    "ntasks_sorted = num_tasks.sort(['task_index']) + 1\n",
    "plt.scatter(np.arange(0,total_cpu_rate.job_id.values.shape[0]), ntasks_sorted.task_index.values, s=2)\n",
    "plt.yscale('log')\n",
    "plt.show()"
   ]
  },
  {
   "cell_type": "code",
   "execution_count": 317,
   "metadata": {
    "collapsed": false
   },
   "outputs": [
    {
     "data": {
      "image/png": "[encoded data removed]",
      "text/plain": [
       "<matplotlib.figure.Figure at 0x7fddbe2f8d68>"
      ]
     },
     "metadata": {},
     "output_type": "display_data"
    },
    {
     "name": "stdout",
     "output_type": "stream",
     "text": [
      "[ 0.2753508  -1.18326276] [[ 0.0001807  -0.00080053]\n",
      " [-0.00080053  0.00359134]]\n"
     ]
    }
   ],
   "source": [
    "from scipy.optimize import curve_fit\n",
    "\n",
    "def exponential(x, beta, displ):\n",
    "    return 1. / beta * np.exp(-1. / beta * (x+ displ))\n",
    "plt.figure(figsize=(22,11))\n",
    "y = total_cpu_rate.max_mem.values #num_tasks.task_index.values\n",
    "# filter out some small ones\n",
    "y = y[y > 0.1]\n",
    "y = y[y < 4]\n",
    "n, bins, patches = plt.hist(y, 100)\n",
    "bin_middles = 0.5*(bins[1:] + bins[:-1])\n",
    "popt, pcov = curve_fit(exponential, bin_middles, n, method='trf')\n",
    "xdata = np.linspace(bins[0], bins[-1], 1000)\n",
    "plt.plot(xdata, exponential(xdata, *popt),\n",
    "         label='exponential: beta=%5.5f, displ=%5.2f' % tuple(popt))\n",
    "#plt.yscale('log')\n",
    "plt.legend(loc='best')\n",
    "plt.show()\n",
    "print(popt, pcov)\n",
    "#print(xdata)"
   ]
  },
  {
   "cell_type": "code",
   "execution_count": 318,
   "metadata": {
    "collapsed": false
   },
   "outputs": [
    {
     "name": "stdout",
     "output_type": "stream",
     "text": [
      "(1675,)\n"
     ]
    }
   ],
   "source": [
    "print(y.shape)"
   ]
  },
  {
   "cell_type": "code",
   "execution_count": 148,
   "metadata": {
    "collapsed": false
   },
   "outputs": [
    {
     "name": "stdout",
     "output_type": "stream",
     "text": [
      "(0.65192311579664397, 0.0)\n"
     ]
    },
    {
     "data": {
      "image/png": "[encoded data removed]",
      "text/plain": [
       "<matplotlib.figure.Figure at 0x7fddcd6ad128>"
      ]
     },
     "metadata": {},
     "output_type": "display_data"
    }
   ],
   "source": [
    "plt.figure()\n",
    "print(pearsonr(total_cpu_rate.max_mem.values, total_cpu_rate.max_cpu_rate.values))\n",
    "plt.scatter(total_cpu_rate.max_mem.values, total_cpu_rate.max_cpu_rate.values)\n",
    "plt.show()"
   ]
  },
  {
   "cell_type": "code",
   "execution_count": 94,
   "metadata": {
    "collapsed": false
   },
   "outputs": [
    {
     "data": {
      "image/png": "[encoded data removed]",
      "text/plain": [
       "<matplotlib.figure.Figure at 0x7efdf170f940>"
      ]
     },
     "metadata": {},
     "output_type": "display_data"
    },
    {
     "data": {
      "image/png": "[encoded data removed]",
      "text/plain": [
       "<matplotlib.figure.Figure at 0x7efdf15c8d68>"
      ]
     },
     "metadata": {},
     "output_type": "display_data"
    }
   ],
   "source": [
    "from matplotlib import cm\n",
    "from matplotlib.colors import LogNorm\n",
    "plt.figure(figsize=(5,5))\n",
    "tu = task_usage[(task_usage.max_mem>0.01) & (task_usage.cpu_rate>0.01) \\\n",
    "                & (task_usage.cpu_rate<0.5) & (task_usage.max_mem<0.25)  ]\n",
    "x = tu.max_mem.values\n",
    "y = tu.cpu_rate.values \n",
    "plt.hist2d(x, y, bins=64,cmap=cm.jet,norm=LogNorm())\n",
    "plt.show()\n",
    "\n",
    "plt.figure(figsize=(5,5))\n",
    "tu = task_usage[(task_usage.max_mem>0.01) & (task_usage.sampled_cpu_usage>0.01) \\\n",
    "                & (task_usage.sampled_cpu_usage<0.5) & (task_usage.max_mem<0.25)  ]\n",
    "x = tu.max_mem.values\n",
    "y = tu.sampled_cpu_usage.values \n",
    "plt.hist2d(x, y, bins=64,cmap=cm.jet,norm=LogNorm())\n",
    "plt.show()\n"
   ]
  },
  {
   "cell_type": "code",
   "execution_count": 149,
   "metadata": {
    "collapsed": false
   },
   "outputs": [
    {
     "name": "stdout",
     "output_type": "stream",
     "text": [
      "(0.32464932583530637, 1.7793346067873456e-119)\n"
     ]
    },
    {
     "data": {
      "image/png": "[encoded data removed]",
      "text/plain": [
       "<matplotlib.figure.Figure at 0x7fddc230ec18>"
      ]
     },
     "metadata": {},
     "output_type": "display_data"
    }
   ],
   "source": [
    "plt.figure()\n",
    "print(pearsonr(total_cpu_rate.max_mem.values, total_cpu_rate.local_disk_space.values))\n",
    "plt.scatter(total_cpu_rate.max_mem.values, total_cpu_rate.local_disk_space.values)\n",
    "plt.show()"
   ]
  },
  {
   "cell_type": "code",
   "execution_count": 346,
   "metadata": {
    "collapsed": true
   },
   "outputs": [],
   "source": [
    "resources = total_cpu_rate.set_index('job_id').join(num_tasks.set_index('job_id')+1)"
   ]
  },
  {
   "cell_type": "code",
   "execution_count": 347,
   "metadata": {
    "collapsed": true
   },
   "outputs": [],
   "source": [
    "# filter out data with 0 values\n",
    "resources = resources[(resources.max_cpu_rate > 0.) & (resources.max_mem > 0.) \\\n",
    "                      & (resources.local_disk_space > 0.) & (resources.disk_io_time > 0.)]\n",
    "# filter out data with big values\n",
    "resources = resources[(resources.max_cpu_rate < 1.) & (resources.max_mem < 1.) \\\n",
    "                      & (resources.local_disk_space < 0.01) & (resources.disk_io_time < 0.01)]"
   ]
  },
  {
   "cell_type": "code",
   "execution_count": 352,
   "metadata": {
    "collapsed": false
   },
   "outputs": [
    {
     "name": "stdout",
     "output_type": "stream",
     "text": [
      "max_cpu_rate [ 0.10755024 -0.28116392] [[  5.34587647e-05  -1.65169829e-04]\n",
      " [ -1.65169829e-04   5.23646471e-04]]\n",
      "0.007467065 0.992727935\n",
      "max_mem [ 0.02153074 -0.05444912] [[  8.07248431e-07  -2.38044599e-06]\n",
      " [ -2.38044599e-06   7.20762268e-06]]\n",
      "0.005938801 0.989800999\n",
      "disk_io_time [ 0.00020302  0.0004117 ] [[  2.95746848e-11   4.64948334e-11]\n",
      " [  4.64948334e-11   7.99234507e-11]]\n",
      "5.08206315e-05 0.0099244730685\n",
      "local_disk_space [ 0.00011686  0.00024049] [[  2.99086950e-11   5.01420294e-11]\n",
      " [  5.01420294e-11   9.00318525e-11]]\n",
      "4.95869315e-05 0.0096789667685\n",
      "task_index [ 0.45160797 -4.3380179 ] [[  4.38892725e-05  -3.24607595e-04]\n",
      " [ -3.24607595e-04   2.40450845e-03]]\n",
      "1.43 86.57\n"
     ]
    },
    {
     "data": {
      "image/png": "[encoded data removed]",
      "text/plain": [
       "<matplotlib.figure.Figure at 0x7fddc121c7b8>"
      ]
     },
     "metadata": {},
     "output_type": "display_data"
    },
    {
     "data": {
      "image/png": "[encoded data removed]",
      "text/plain": [
       "<matplotlib.figure.Figure at 0x7fddc16f2c50>"
      ]
     },
     "metadata": {},
     "output_type": "display_data"
    },
    {
     "data": {
      "image/png": "[encoded data removed]",
      "text/plain": [
       "<matplotlib.figure.Figure at 0x7fddbe9f87b8>"
      ]
     },
     "metadata": {},
     "output_type": "display_data"
    },
    {
     "data": {
      "image/png": "[encoded data removed]",
      "text/plain": [
       "<matplotlib.figure.Figure at 0x7fddc12a36a0>"
      ]
     },
     "metadata": {},
     "output_type": "display_data"
    },
    {
     "data": {
      "image/png": "[encoded data removed]",
      "text/plain": [
       "<matplotlib.figure.Figure at 0x7fddc23ab668>"
      ]
     },
     "metadata": {},
     "output_type": "display_data"
    }
   ],
   "source": [
    "# plot histograms of all resources\n",
    "def exponential(x, beta, displ):\n",
    "    return 1. / beta * np.exp(-1. / beta * (x + displ))\n",
    "for column in resources.columns:\n",
    "    plt.figure(figsize=(20,5))\n",
    "    y = resources[column].values\n",
    "    n, bins, patches = plt.hist(y, 100)\n",
    "    bin_middles = 0.5*(bins[1:] + bins[:-1])\n",
    "    popt, pcov = curve_fit(exponential, bin_middles, n, method='trf')\n",
    "    xdata = np.linspace(bins[0], bins[-1], 1000)\n",
    "    plt.plot(xdata, exponential(xdata, *popt),\n",
    "             label='exponential: beta=%5.5f, displ=%5.2f' % tuple(popt))\n",
    "    plt.title(column)\n",
    "    #plt.yscale('log')\n",
    "    plt.legend(loc='best')\n",
    "    print(column, popt, pcov)\n",
    "    print(bin_middles[0], bin_middles[-1])\n",
    "plt.show()"
   ]
  },
  {
   "cell_type": "code",
   "execution_count": 391,
   "metadata": {
    "collapsed": false
   },
   "outputs": [
    {
     "name": "stdout",
     "output_type": "stream",
     "text": [
      "1758\n"
     ]
    }
   ],
   "source": [
    "# quick'n'dirty CAGE\n",
    "(num_bids, num_resources) = resources.shape\n",
    "print(num_bids)\n",
    "# get correlation coeficients for all the resource types"
   ]
  },
  {
   "cell_type": "code",
   "execution_count": 353,
   "metadata": {
    "collapsed": false
   },
   "outputs": [
    {
     "name": "stdout",
     "output_type": "stream",
     "text": [
      "[[  6.93751364e-02   1.07094597e-02   3.54797260e-05   3.47816748e-05\n",
      "    5.55384715e-02]\n",
      " [  1.07094597e-02   2.61395519e-02  -3.53804697e-05   3.62918464e-05\n",
      "    5.30697772e-02]\n",
      " [  3.54797260e-05  -3.53804697e-05   3.35207551e-06  -3.95943080e-08\n",
      "    5.57096369e-04]\n",
      " [  3.47816748e-05   3.62918464e-05  -3.95943080e-08   6.94513170e-07\n",
      "    2.97245210e-04]\n",
      " [  5.55384715e-02   5.30697772e-02   5.57096369e-04   2.97245210e-04\n",
      "    1.06227756e+01]]\n"
     ]
    }
   ],
   "source": [
    "# get covariance matrix\n",
    "C = np.cov(resources, rowvar=False)\n",
    "print(C)"
   ]
  },
  {
   "cell_type": "code",
   "execution_count": 355,
   "metadata": {
    "collapsed": false
   },
   "outputs": [
    {
     "name": "stdout",
     "output_type": "stream",
     "text": [
      "[[  2.63391603e-01   0.00000000e+00   0.00000000e+00   0.00000000e+00\n",
      "    0.00000000e+00]\n",
      " [  4.06598374e-02   1.56481084e-01   0.00000000e+00   0.00000000e+00\n",
      "    0.00000000e+00]\n",
      " [  1.34703330e-04  -2.61101752e-04   1.80714039e-03   0.00000000e+00\n",
      "    0.00000000e+00]\n",
      " [  1.32053089e-04   1.97612316e-04  -3.20139870e-06   7.98757958e-04\n",
      "    0.00000000e+00]\n",
      " [  2.10858930e-01   2.84355696e-01   3.33642445e-01   2.68262206e-01\n",
      "    3.21156878e+00]]\n"
     ]
    }
   ],
   "source": [
    "# Cholesky decompostion\n",
    "L = np.linalg.cholesky(C)\n",
    "#print(np.dot(L, L.T.conj()))\n",
    "print(L)"
   ]
  },
  {
   "cell_type": "code",
   "execution_count": 390,
   "metadata": {
    "collapsed": false
   },
   "outputs": [
    {
     "name": "stdout",
     "output_type": "stream",
     "text": [
      "[  2.44061811e-01   1.03410290e-01   9.67830176e-04   4.52090034e-04\n",
      "   1.70136519e+00]\n"
     ]
    }
   ],
   "source": [
    "# hardcoded params for exponential distribution: beta, displ, x-domain (min, max)\n",
    "beta = 0.10755024\n",
    "displ = -0.28116392\n",
    "xdmin = 0.007467065\n",
    "xdmax = 0.992727935\n",
    "res_means = resources.values.mean(axis=0)\n",
    "print(res_means)"
   ]
  },
  {
   "cell_type": "code",
   "execution_count": 387,
   "metadata": {
    "collapsed": true
   },
   "outputs": [],
   "source": [
    "# assume only exponential distribution for now and use params obtained from fitting\n",
    "# generate first resource for all bids\n",
    "r1 = np.random.exponential(scale=beta, size=num_bids)"
   ]
  },
  {
   "cell_type": "code",
   "execution_count": 388,
   "metadata": {
    "collapsed": false
   },
   "outputs": [
    {
     "data": {
      "image/png": "[encoded data removed]",
      "text/plain": [
       "<matplotlib.figure.Figure at 0x7fddb7ca7978>"
      ]
     },
     "metadata": {},
     "output_type": "display_data"
    }
   ],
   "source": [
    "f = plt.figure(figsize=(20,8))\n",
    "ax1 = f.add_subplot(211)\n",
    "#plt.figsize=(20,5)\n",
    "n, bins, patches = plt.hist(r1, 100, label='random', color='b')\n",
    "ax2 = f.add_subplot(212, sharex=ax1)\n",
    "n, bins, patches = plt.hist(resources.max_cpu_rate.values, 100, label='real', color='g')\n",
    "ax1.legend(loc='best')\n",
    "ax2.legend(loc='best')\n",
    "plt.show()"
   ]
  },
  {
   "cell_type": "code",
   "execution_count": null,
   "metadata": {
    "collapsed": true
   },
   "outputs": [],
   "source": [
    "# generate set of uncorrelated random variables with unit variance to gen each bundle\n",
    "for i in range(0, len(r1)):\n",
    "    z = \n",
    "    r_rand = L * z"
   ]
  },
  {
   "cell_type": "code",
   "execution_count": null,
   "metadata": {
    "collapsed": true
   },
   "outputs": [],
   "source": [
    "# multiply with L to get correlated vector\n"
   ]
  }
 ],
 "metadata": {
  "kernelspec": {
   "display_name": "Python 3",
   "language": "python",
   "name": "python3"
  },
  "language_info": {
   "codemirror_mode": {
    "name": "ipython",
    "version": 3
   },
   "file_extension": ".py",
   "mimetype": "text/x-python",
   "name": "python",
   "nbconvert_exporter": "python",
   "pygments_lexer": "ipython3",
   "version": "3.6.0"
  }
 },
 "nbformat": 4,
 "nbformat_minor": 2
}
